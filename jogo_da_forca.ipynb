{
 "cells": [
  {
   "cell_type": "markdown",
   "metadata": {},
   "source": [
    "### Primeiro codigo python"
   ]
  },
  {
   "cell_type": "code",
   "execution_count": 1,
   "metadata": {},
   "outputs": [
    {
     "name": "stdout",
     "output_type": "stream",
     "text": [
      "******************\n",
      "*** Bem vindo ao jogo da forca***\n",
      "******************\n",
      "jogando...\n",
      "encontrei a letra a na posição 1\n",
      "encontrei a letra a na posição 3\n",
      "encontrei a letra a na posição 5\n",
      "jogando...\n"
     ]
    }
   ],
   "source": [
    "def jogar():\n",
    "    print('******************')\n",
    "    print('*** Bem vindo ao jogo da forca***')\n",
    "    print('******************')\n",
    "\n",
    "    palavra_secreta = 'banana'.upper()\n",
    "    letras_acertadas = ['_' for letra in palavra_secreta]\n",
    "\n",
    "    # for letras in palavra_secreta:\n",
    "    #     letras_acertadas.append('_')\n",
    "\n",
    "    letras_faltando = str(letras_acertadas.count('_'))\n",
    "    print(f'ainda falta acertar {letras_faltando}')\n",
    "    print(letras_acertadas)\n",
    "    \n",
    "    enforcou = False\n",
    "    acertou = False\n",
    "    erros = 0\n",
    "\n",
    "    while(not enforcou and not acertou):\n",
    "\n",
    "        chute = input('Qual letra?')\n",
    "        chute = chute.strip().upper()\n",
    "        \n",
    "        if(chute in palavra_secreta):\n",
    "            index = 0\n",
    "            for letra in palavra_secreta:\n",
    "                if (chute.upper() == letra.upper()):\n",
    "                    letras_acertadas[index] = letra\n",
    "                index += 1\n",
    "            else:\n",
    "                print(f'voce errou, tente mais {6-erros} vezes')\n",
    "                erros += 1 \n",
    "\n",
    "            enforcou = erros == 6\n",
    "            acertou = '_' not in letras_acertadas\n",
    "            print(letras_acertadas)\n",
    "\n",
    "        if(acertou):\n",
    "            print('Voce ganhou')\n",
    "        else:\n",
    "            print('voce perdeu')\n",
    "        \n",
    "    print('Fim do jogo')\n",
    "\n",
    "if(__name__ == \"__main__\"):\n",
    "    jogar()"
   ]
  },
  {
   "cell_type": "code",
   "execution_count": 7,
   "metadata": {},
   "outputs": [
    {
     "data": {
      "text/plain": [
       "1"
      ]
     },
     "execution_count": 7,
     "metadata": {},
     "output_type": "execute_result"
    }
   ],
   "source": [
    "palavra = 'aluracursos'\n",
    "len(palavra)\n",
    "palavra.find('l')"
   ]
  },
  {
   "cell_type": "code",
   "execution_count": null,
   "metadata": {},
   "outputs": [],
   "source": []
  }
 ],
 "metadata": {
  "kernelspec": {
   "display_name": "Python 3.9.0 64-bit",
   "language": "python",
   "name": "python3"
  },
  "language_info": {
   "codemirror_mode": {
    "name": "ipython",
    "version": 3
   },
   "file_extension": ".py",
   "mimetype": "text/x-python",
   "name": "python",
   "nbconvert_exporter": "python",
   "pygments_lexer": "ipython3",
   "version": "3.9.0"
  },
  "orig_nbformat": 4,
  "vscode": {
   "interpreter": {
    "hash": "c77c143492b9dd6f42c8b3369f3e8e42061da6748ee0f67ec3313d28fe05717f"
   }
  }
 },
 "nbformat": 4,
 "nbformat_minor": 2
}
