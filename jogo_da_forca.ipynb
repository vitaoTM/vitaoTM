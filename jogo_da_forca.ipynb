{
 "cells": [
  {
   "cell_type": "markdown",
   "metadata": {},
   "source": [
    "### Primeiro codigo python"
   ]
  },
  {
   "cell_type": "code",
   "execution_count": 1,
   "metadata": {},
   "outputs": [
    {
     "name": "stdout",
     "output_type": "stream",
     "text": [
      "******************\n",
      "*** Bem vindo ao jogo da forca***\n",
      "******************\n",
      "jogando...\n",
      "encontrei a letra a na posição 1\n",
      "encontrei a letra a na posição 3\n",
      "encontrei a letra a na posição 5\n",
      "jogando...\n"
     ]
    }
   ],
   "source": [
    "def jogar():\n",
    "    print('******************')\n",
    "    print('*** Bem vindo ao jogo da forca***')\n",
    "    print('******************')\n",
    "\n",
    "    palavra_secreta = 'banana'\n",
    "\n",
    "    enforcou = False\n",
    "    acertou = False\n",
    "\n",
    "    while(not enforcou and not acertou):\n",
    "\n",
    "        chute = input('Qual letra?')\n",
    "        index = 0\n",
    "        for letra in palavra_secreta:\n",
    "            if (chute == letra):\n",
    "                print(f'encontrei a letra {letra} na posição {index}')\n",
    "            index += 1\n",
    "        print('jogando...')\n",
    "\n",
    "    print('Fim do jogo')\n",
    "\n",
    "if(__name__ == \"__main__\"):\n",
    "    jogar()"
   ]
  },
  {
   "cell_type": "code",
   "execution_count": null,
   "metadata": {},
   "outputs": [],
   "source": []
  }
 ],
 "metadata": {
  "kernelspec": {
   "display_name": "Python 3.9.0 64-bit",
   "language": "python",
   "name": "python3"
  },
  "language_info": {
   "codemirror_mode": {
    "name": "ipython",
    "version": 3
   },
   "file_extension": ".py",
   "mimetype": "text/x-python",
   "name": "python",
   "nbconvert_exporter": "python",
   "pygments_lexer": "ipython3",
   "version": "3.9.0"
  },
  "orig_nbformat": 4,
  "vscode": {
   "interpreter": {
    "hash": "c77c143492b9dd6f42c8b3369f3e8e42061da6748ee0f67ec3313d28fe05717f"
   }
  }
 },
 "nbformat": 4,
 "nbformat_minor": 2
}
