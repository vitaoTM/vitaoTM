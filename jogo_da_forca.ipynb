{
 "cells": [
  {
   "cell_type": "markdown",
   "metadata": {},
   "source": [
    "### Primeiro codigo python"
   ]
  },
  {
   "cell_type": "code",
   "execution_count": 3,
   "metadata": {},
   "outputs": [],
   "source": [
    "import random"
   ]
  },
  {
   "cell_type": "code",
   "execution_count": 4,
   "metadata": {},
   "outputs": [],
   "source": [
    "def msg_abertura():\n",
    "    print('*********************************')\n",
    "    print('*** Bem vindo ao jogo da forca***')\n",
    "    print('*********************************')\n",
    "\n"
   ]
  },
  {
   "cell_type": "code",
   "execution_count": 9,
   "metadata": {},
   "outputs": [],
   "source": [
    "def carrega_palavra_secreta():\n",
    "    arquivo = open('palavras.txt', 'w', encoding = 'utf-8')\n",
    "    palavra = []\n",
    "\n",
    "    for linha in arquivo:\n",
    "        linha = linha.strip()\n",
    "        palavra.append(linha)\n",
    "    \n",
    "    arquivo.close()\n",
    "    \n",
    "    numero = random.randrange(0,len(palavras))\n",
    "    palavra_secreta = palavra[numero].upper()\n",
    "    return palavra_secreta\n",
    "    "
   ]
  },
  {
   "cell_type": "code",
   "execution_count": 10,
   "metadata": {},
   "outputs": [],
   "source": [
    "def inicializa_letras_acertadas(palavra):\n",
    "    lista = ['_' for letra in palavra]\n",
    "    return lista\n",
    "\n",
    "\n",
    "    # for letras in palavra_secreta:\n",
    "    #    letras_acertadas.append('_')\n"
   ]
  },
  {
   "cell_type": "code",
   "execution_count": 11,
   "metadata": {},
   "outputs": [],
   "source": [
    "def pede_chute():\n",
    "    input('Qual letra?')\n",
    "    chute = chute.strip().upper()\n",
    "    return chute \n"
   ]
  },
  {
   "cell_type": "code",
   "execution_count": 12,
   "metadata": {},
   "outputs": [],
   "source": [
    "def marca_chute_correto(chute, letras_acertadas, palavra_secreta):\n",
    "    index = 0\n",
    "    for letra in palavra_secreta:\n",
    "        if (chute.upper() == letra.upper()):\n",
    "            letras_acertadas[index] = letra\n",
    "        index += 1\n",
    "    "
   ]
  },
  {
   "cell_type": "code",
   "execution_count": 1,
   "metadata": {},
   "outputs": [
    {
     "name": "stdout",
     "output_type": "stream",
     "text": [
      "******************\n",
      "*** Bem vindo ao jogo da forca***\n",
      "******************\n",
      "jogando...\n",
      "encontrei a letra a na posição 1\n",
      "encontrei a letra a na posição 3\n",
      "encontrei a letra a na posição 5\n",
      "jogando...\n"
     ]
    }
   ],
   "source": [
    "def jogar():\n",
    "\n",
    "    msg_abertura()\n",
    "    palavra_secreta = carrega_palavra_secreta()\n",
    "    letras_acertadas = inicializa_letras_acertadas(palavra_secreta) \n",
    "    \n",
    "    print(letras_acertadas)\n",
    "    letras_faltando = str(letras_acertadas.count('_'))\n",
    "    print(f'ainda falta acertar {letras_faltando}')\n",
    "    \n",
    "    enforcou = False\n",
    "    acertou = False\n",
    "    erros = 0\n",
    "\n",
    "    while(not enforcou and not acertou):\n",
    "\n",
    "        chute = pede_chute()\n",
    "        \n",
    "        if(chute in palavra_secreta):\n",
    "            marca_chute_correto(chute, letras_acertadas, palavra_secreta)\n",
    "            else:\n",
    "                print(f'voce errou, tente mais {6-erros} vezes')\n",
    "                erros += 1 \n",
    "\n",
    "            enforcou = erros == 6\n",
    "            acertou = '_' not in letras_acertadas\n",
    "            print(letras_acertadas)\n",
    "\n",
    "        if(acertou):\n",
    "            print('Voce ganhou')\n",
    "        else:\n",
    "            print('voce perdeu')\n",
    "        \n",
    "    print('Fim do jogo')\n",
    "\n",
    "if(__name__ == \"__main__\"):\n",
    "    jogar()"
   ]
  },
  {
   "cell_type": "code",
   "execution_count": 2,
   "metadata": {},
   "outputs": [],
   "source": [
    "arquivo = open('palavras.txt', 'w', encoding = 'utf-8')\n",
    "arquivo.write('banana\\n')\n",
    "arquivo.write('melancia\\n')\n",
    "arquivo.close()"
   ]
  },
  {
   "cell_type": "code",
   "execution_count": null,
   "metadata": {},
   "outputs": [],
   "source": []
  }
 ],
 "metadata": {
  "kernelspec": {
   "display_name": "Python 3.9.0 64-bit",
   "language": "python",
   "name": "python3"
  },
  "language_info": {
   "codemirror_mode": {
    "name": "ipython",
    "version": 3
   },
   "file_extension": ".py",
   "mimetype": "text/x-python",
   "name": "python",
   "nbconvert_exporter": "python",
   "pygments_lexer": "ipython3",
   "version": "3.9.0"
  },
  "orig_nbformat": 4,
  "vscode": {
   "interpreter": {
    "hash": "c77c143492b9dd6f42c8b3369f3e8e42061da6748ee0f67ec3313d28fe05717f"
   }
  }
 },
 "nbformat": 4,
 "nbformat_minor": 2
}
