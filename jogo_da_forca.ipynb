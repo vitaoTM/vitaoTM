{
 "cells": [
  {
   "cell_type": "markdown",
   "metadata": {},
   "source": [
    "### Primeiro codigo python"
   ]
  },
  {
   "cell_type": "code",
   "execution_count": 46,
   "metadata": {},
   "outputs": [],
   "source": [
    "import random"
   ]
  },
  {
   "cell_type": "code",
   "execution_count": 47,
   "metadata": {},
   "outputs": [],
   "source": [
    "def msg_abertura():\n",
    "    print('*********************************')\n",
    "    print('*** Bem vindo ao jogo da forca***')\n",
    "    print('*********************************')\n",
    "\n"
   ]
  },
  {
   "cell_type": "code",
   "execution_count": 48,
   "metadata": {},
   "outputs": [],
   "source": [
    "def carrega_palavra_secreta():\n",
    "    arquivo = open(\"palavras.txt\", \"r\")\n",
    "    palavras = []\n",
    "\n",
    "    for linha in arquivo:\n",
    "        linha = linha.strip()\n",
    "        palavras.append(linha)\n",
    "\n",
    "    arquivo.close()\n",
    "\n",
    "    numero = random.randrange(0, len(palavras))\n",
    "    palavra_secreta = palavras[numero].upper()\n",
    "\n",
    "    return palavra_secreta\n",
    "    "
   ]
  },
  {
   "cell_type": "code",
   "execution_count": 49,
   "metadata": {},
   "outputs": [],
   "source": [
    "def inicializa_letras_acertadas(palavra):\n",
    "    return [\"_\" for letra in palavra]\n",
    "\n",
    "    # for letras in palavra_secreta:\n",
    "    #    letras_acertadas.append('_')\n"
   ]
  },
  {
   "cell_type": "code",
   "execution_count": 50,
   "metadata": {},
   "outputs": [],
   "source": [
    "def pede_chute():\n",
    "    chute = input(\"Qual letra? \")\n",
    "    chute = chute.strip().upper()\n",
    "\n",
    "    return chute"
   ]
  },
  {
   "cell_type": "code",
   "execution_count": 51,
   "metadata": {},
   "outputs": [],
   "source": [
    "def marca_chute_correto(chute, letras_acertadas, palavra_secreta):\n",
    "    index = 0\n",
    "    for letra in palavra_secreta:\n",
    "        if (chute == letra):\n",
    "            letras_acertadas[index] = letra\n",
    "        index += 1 "
   ]
  },
  {
   "cell_type": "code",
   "execution_count": 52,
   "metadata": {},
   "outputs": [],
   "source": [
    "def imprime_mensagem_vencedor():\n",
    "    print(\"Você ganhou!\")\n",
    "\n",
    "def imprime_mensagem_perdedor():\n",
    "    print(\"Você perdeu!\")"
   ]
  },
  {
   "cell_type": "code",
   "execution_count": 53,
   "metadata": {},
   "outputs": [],
   "source": [
    "def msg_perdedor(palavra_secreta):\n",
    "    print(\"Puxa, você foi enforcado!\")\n",
    "    print(f\"A palavra era {palavra_secreta}\")\n",
    "    print(\"    _______________         \")\n",
    "    print(\"   /               \\       \")\n",
    "    print(\"  /                 \\      \")\n",
    "    print(\"//                   \\/\\  \")\n",
    "    print(\"\\|   XXXX     XXXX   | /   \")\n",
    "    print(\" |   XXXX     XXXX   |/     \")\n",
    "    print(\" |   XXX       XXX   |      \")\n",
    "    print(\" |                   |      \")\n",
    "    print(\" \\__      XXX      __/     \")\n",
    "    print(\"   |\\     XXX     /|       \")\n",
    "    print(\"   | |           | |        \")\n",
    "    print(\"   | I I I I I I I |        \")\n",
    "    print(\"   |  I I I I I I  |        \")\n",
    "    print(\"   \\_             _/       \")\n",
    "    print(\"     \\_         _/         \")\n",
    "    print(\"       \\_______/           \")"
   ]
  },
  {
   "cell_type": "code",
   "execution_count": 54,
   "metadata": {},
   "outputs": [],
   "source": [
    "def msg_vencedor():\n",
    "    print(\"Parabéns, você ganhou!\")\n",
    "    print(\"       ___________      \")\n",
    "    print(\"      '._==_==_=_.'     \")\n",
    "    print(\"      .-\\\\:      /-.    \")\n",
    "    print(\"     | (|:.     |) |    \")\n",
    "    print(\"      '-|:.     |-'     \")\n",
    "    print(\"        \\\\::.    /      \")\n",
    "    print(\"         '::. .'        \")\n",
    "    print(\"           ) (          \")\n",
    "    print(\"         _.' '._        \")\n",
    "    print(\"        '-------'       \")"
   ]
  },
  {
   "cell_type": "code",
   "execution_count": 55,
   "metadata": {},
   "outputs": [],
   "source": [
    "def desenha_forca(erros):\n",
    "    print(\"  _______     \")\n",
    "    print(\" |/      |    \")\n",
    "\n",
    "    if(erros == 1):\n",
    "        print(\" |      (°_°)   \")\n",
    "        print(\" |              \")\n",
    "        print(\" |              \")\n",
    "        print(\" |              \")\n",
    "\n",
    "    if(erros == 2):\n",
    "        print(\" |      (°_°)   \")\n",
    "        print(\" |        |     \")\n",
    "        print(\" |              \")\n",
    "        print(\" |              \")\n",
    "\n",
    "    if(erros == 3):\n",
    "        print(\" |      (°_°)   \")\n",
    "        print(\" |      \\ |     \")\n",
    "        print(\" |              \")\n",
    "        print(\" |              \")\n",
    "\n",
    "\n",
    "    if(erros == 4):\n",
    "        print(\" |      (°_°)   \")\n",
    "        print(\" |       \\|/    \")\n",
    "        print(\" |              \")\n",
    "        print(\" |              \")\n",
    "\n",
    "    if(erros == 5):\n",
    "        print(\" |      (°_°)   \")\n",
    "        print(\" |       \\|/    \")\n",
    "        print(\" |        |     \")\n",
    "        print(\" |              \")\n",
    "\n",
    "    if(erros == 6):\n",
    "        print(\" |      (°_°)   \")\n",
    "        print(\" |       \\|/    \")\n",
    "        print(\" |        |     \")\n",
    "        print(\" |       /      \")\n",
    "\n",
    "    if (erros == 7):\n",
    "        print(\" |      (x_x)   \")\n",
    "        print(\" |       \\|/    \")\n",
    "        print(\" |        |     \")\n",
    "        print(\" |       / \\    \")\n",
    "\n",
    "    print(\" |            \")\n",
    "    print(\"_|___         \")\n",
    "    print()"
   ]
  },
  {
   "cell_type": "code",
   "execution_count": 56,
   "metadata": {},
   "outputs": [
    {
     "name": "stdout",
     "output_type": "stream",
     "text": [
      "*********************************\n",
      "*** Bem vindo ao jogo da forca***\n",
      "*********************************\n"
     ]
    },
    {
     "ename": "ValueError",
     "evalue": "empty range for randrange() (0, 0, 0)",
     "output_type": "error",
     "traceback": [
      "\u001b[1;31m---------------------------------------------------------------------------\u001b[0m",
      "\u001b[1;31mValueError\u001b[0m                                Traceback (most recent call last)",
      "\u001b[1;32mc:\\Users\\vitaoTM\\Documents\\github\\alura_python\\vitaoTM\\jogo_da_forca.ipynb Cell 12'\u001b[0m in \u001b[0;36m<cell line: 40>\u001b[1;34m()\u001b[0m\n\u001b[0;32m     <a href='vscode-notebook-cell:/c%3A/Users/vitaoTM/Documents/github/alura_python/vitaoTM/jogo_da_forca.ipynb#ch0000001?line=35'>36</a>\u001b[0m             msg_perdedor(palavra_secreta)\n\u001b[0;32m     <a href='vscode-notebook-cell:/c%3A/Users/vitaoTM/Documents/github/alura_python/vitaoTM/jogo_da_forca.ipynb#ch0000001?line=37'>38</a>\u001b[0m     \u001b[39mprint\u001b[39m(\u001b[39m'\u001b[39m\u001b[39mFim do jogo\u001b[39m\u001b[39m'\u001b[39m)\n\u001b[1;32m---> <a href='vscode-notebook-cell:/c%3A/Users/vitaoTM/Documents/github/alura_python/vitaoTM/jogo_da_forca.ipynb#ch0000001?line=39'>40</a>\u001b[0m jogar()\n",
      "\u001b[1;32mc:\\Users\\vitaoTM\\Documents\\github\\alura_python\\vitaoTM\\jogo_da_forca.ipynb Cell 12'\u001b[0m in \u001b[0;36mjogar\u001b[1;34m()\u001b[0m\n\u001b[0;32m      <a href='vscode-notebook-cell:/c%3A/Users/vitaoTM/Documents/github/alura_python/vitaoTM/jogo_da_forca.ipynb#ch0000001?line=0'>1</a>\u001b[0m \u001b[39mdef\u001b[39;00m \u001b[39mjogar\u001b[39m():\n\u001b[0;32m      <a href='vscode-notebook-cell:/c%3A/Users/vitaoTM/Documents/github/alura_python/vitaoTM/jogo_da_forca.ipynb#ch0000001?line=2'>3</a>\u001b[0m     msg_abertura()\n\u001b[1;32m----> <a href='vscode-notebook-cell:/c%3A/Users/vitaoTM/Documents/github/alura_python/vitaoTM/jogo_da_forca.ipynb#ch0000001?line=3'>4</a>\u001b[0m     palavra_secreta \u001b[39m=\u001b[39m carrega_palavra_secreta()\n\u001b[0;32m      <a href='vscode-notebook-cell:/c%3A/Users/vitaoTM/Documents/github/alura_python/vitaoTM/jogo_da_forca.ipynb#ch0000001?line=5'>6</a>\u001b[0m     letras_acertadas \u001b[39m=\u001b[39m inicializa_letras_acertadas(palavra_secreta) \n\u001b[0;32m      <a href='vscode-notebook-cell:/c%3A/Users/vitaoTM/Documents/github/alura_python/vitaoTM/jogo_da_forca.ipynb#ch0000001?line=6'>7</a>\u001b[0m     \u001b[39mprint\u001b[39m(letras_acertadas)\n",
      "\u001b[1;32mc:\\Users\\vitaoTM\\Documents\\github\\alura_python\\vitaoTM\\jogo_da_forca.ipynb Cell 4'\u001b[0m in \u001b[0;36mcarrega_palavra_secreta\u001b[1;34m()\u001b[0m\n\u001b[0;32m      <a href='vscode-notebook-cell:/c%3A/Users/vitaoTM/Documents/github/alura_python/vitaoTM/jogo_da_forca.ipynb#ch0000006?line=6'>7</a>\u001b[0m     palavras\u001b[39m.\u001b[39mappend(linha)\n\u001b[0;32m      <a href='vscode-notebook-cell:/c%3A/Users/vitaoTM/Documents/github/alura_python/vitaoTM/jogo_da_forca.ipynb#ch0000006?line=8'>9</a>\u001b[0m arquivo\u001b[39m.\u001b[39mclose()\n\u001b[1;32m---> <a href='vscode-notebook-cell:/c%3A/Users/vitaoTM/Documents/github/alura_python/vitaoTM/jogo_da_forca.ipynb#ch0000006?line=10'>11</a>\u001b[0m numero \u001b[39m=\u001b[39m random\u001b[39m.\u001b[39;49mrandrange(\u001b[39m0\u001b[39;49m, \u001b[39mlen\u001b[39;49m(palavras))\n\u001b[0;32m     <a href='vscode-notebook-cell:/c%3A/Users/vitaoTM/Documents/github/alura_python/vitaoTM/jogo_da_forca.ipynb#ch0000006?line=11'>12</a>\u001b[0m palavra_secreta \u001b[39m=\u001b[39m palavras[numero]\u001b[39m.\u001b[39mupper()\n\u001b[0;32m     <a href='vscode-notebook-cell:/c%3A/Users/vitaoTM/Documents/github/alura_python/vitaoTM/jogo_da_forca.ipynb#ch0000006?line=13'>14</a>\u001b[0m \u001b[39mreturn\u001b[39;00m palavra_secreta\n",
      "File \u001b[1;32mc:\\Users\\vitaoTM\\AppData\\Local\\Programs\\Python\\Python39\\lib\\random.py:316\u001b[0m, in \u001b[0;36mRandom.randrange\u001b[1;34m(self, start, stop, step)\u001b[0m\n\u001b[0;32m    314\u001b[0m     \u001b[39mreturn\u001b[39;00m istart \u001b[39m+\u001b[39m \u001b[39mself\u001b[39m\u001b[39m.\u001b[39m_randbelow(width)\n\u001b[0;32m    315\u001b[0m \u001b[39mif\u001b[39;00m step \u001b[39m==\u001b[39m \u001b[39m1\u001b[39m:\n\u001b[1;32m--> 316\u001b[0m     \u001b[39mraise\u001b[39;00m \u001b[39mValueError\u001b[39;00m(\u001b[39m\"\u001b[39m\u001b[39mempty range for randrange() (\u001b[39m\u001b[39m%d\u001b[39;00m\u001b[39m, \u001b[39m\u001b[39m%d\u001b[39;00m\u001b[39m, \u001b[39m\u001b[39m%d\u001b[39;00m\u001b[39m)\u001b[39m\u001b[39m\"\u001b[39m \u001b[39m%\u001b[39m (istart, istop, width))\n\u001b[0;32m    318\u001b[0m \u001b[39m# Non-unit step argument supplied.\u001b[39;00m\n\u001b[0;32m    319\u001b[0m istep \u001b[39m=\u001b[39m \u001b[39mint\u001b[39m(step)\n",
      "\u001b[1;31mValueError\u001b[0m: empty range for randrange() (0, 0, 0)"
     ]
    }
   ],
   "source": [
    "def jogar():\n",
    "\n",
    "    msg_abertura()\n",
    "    palavra_secreta = carrega_palavra_secreta()\n",
    "\n",
    "    letras_acertadas = inicializa_letras_acertadas(palavra_secreta) \n",
    "    print(letras_acertadas)\n",
    "    \n",
    "    # letras_faltando = str(letras_acertadas.count('_'))\n",
    "    # print(f'ainda falta acertar {letras_faltando}')\n",
    "    \n",
    "    enforcou = False\n",
    "    acertou = False\n",
    "    erros = 0\n",
    "\n",
    "    while(not enforcou and not acertou):\n",
    "\n",
    "        chute = pede_chute()\n",
    "        \n",
    "        if(chute in palavra_secreta):\n",
    "            marca_chute_correto(chute, letras_acertadas, palavra_secreta)\n",
    "        else:\n",
    "            erros += 1 \n",
    "            print(f'voce errou, tente mais {7-erros} vezes')\n",
    "            desenha_forca(erros)\n",
    "\n",
    "        enforcou = erros == 7\n",
    "        acertou = '_' not in letras_acertadas\n",
    "\n",
    "\n",
    "        print(letras_acertadas)\n",
    "\n",
    "        if(acertou):\n",
    "            msg_ganhador()  \n",
    "        else:\n",
    "            msg_perdedor(palavra_secreta)\n",
    "             \n",
    "    print('Fim do jogo')\n",
    "\n",
    "jogar()"
   ]
  }
 ],
 "metadata": {
  "kernelspec": {
   "display_name": "Python 3.9.0 64-bit",
   "language": "python",
   "name": "python3"
  },
  "language_info": {
   "codemirror_mode": {
    "name": "ipython",
    "version": 3
   },
   "file_extension": ".py",
   "mimetype": "text/x-python",
   "name": "python",
   "nbconvert_exporter": "python",
   "pygments_lexer": "ipython3",
   "version": "3.9.0"
  },
  "orig_nbformat": 4,
  "vscode": {
   "interpreter": {
    "hash": "c77c143492b9dd6f42c8b3369f3e8e42061da6748ee0f67ec3313d28fe05717f"
   }
  }
 },
 "nbformat": 4,
 "nbformat_minor": 2
}
